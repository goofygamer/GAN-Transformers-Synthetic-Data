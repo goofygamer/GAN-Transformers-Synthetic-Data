{
 "cells": [
  {
   "cell_type": "markdown",
   "metadata": {},
   "source": [
    "# 01_load_and_preprocess_data\n",
    "I will target 12 firms for my initial exercise and will be dowloading, processing, and saving data."
   ]
  },
  {
   "cell_type": "code",
   "execution_count": 8,
   "metadata": {},
   "outputs": [],
   "source": [
    "import os\n",
    "import joblib\n",
    "import numpy as np\n",
    "from generative_finance.data_loader import load_and_preprocess_data"
   ]
  },
  {
   "cell_type": "markdown",
   "metadata": {},
   "source": [
    "## 1. Configuration"
   ]
  },
  {
   "cell_type": "code",
   "execution_count": 9,
   "metadata": {},
   "outputs": [],
   "source": [
    "TICKERS = [\n",
    "    'NVDA', 'MSFT', 'AAPL', 'GOOGL', 'JNJ', 'LLY', 'PFE', 'VRTX',\n",
    "    'AMZN', 'TSLA', 'NKE', 'HD'\n",
    "]\n",
    "START_DATE = '2015-01-01'\n",
    "END_DATE = '2025-06-30'\n",
    "SEQUENCE_LENGTH = 24"
   ]
  },
  {
   "cell_type": "markdown",
   "metadata": {},
   "source": [
    "## 2. Directory Setup"
   ]
  },
  {
   "cell_type": "code",
   "execution_count": 10,
   "metadata": {},
   "outputs": [
    {
     "name": "stdout",
     "output_type": "stream",
     "text": [
      "Data will be saved in the 'data/processed' directory.\n"
     ]
    }
   ],
   "source": [
    "output_dir = 'data/processed'\n",
    "os.makedirs(output_dir, exist_ok=True)\n",
    "print(f\"Data will be saved in the '{output_dir}' directory.\")"
   ]
  },
  {
   "cell_type": "markdown",
   "metadata": {},
   "source": [
    "## 3. Main Execution Loop"
   ]
  },
  {
   "cell_type": "code",
   "execution_count": 11,
   "metadata": {},
   "outputs": [
    {
     "name": "stderr",
     "output_type": "stream",
     "text": [
      "/Users/sankalpyadav/Desktop/QuantProjects/GAN-Transformers-Synthetic-Data/generative_finance/data_loader.py:28: FutureWarning: YF.download() has changed argument auto_adjust default to True\n",
      "  df = yf.download(ticker, start=start_date, end=end_date)\n",
      "[*********************100%***********************]  1 of 1 completed\n",
      "/Users/sankalpyadav/Desktop/QuantProjects/GAN-Transformers-Synthetic-Data/generative_finance/data_loader.py:28: FutureWarning: YF.download() has changed argument auto_adjust default to True\n",
      "  df = yf.download(ticker, start=start_date, end=end_date)\n",
      "[*********************100%***********************]  1 of 1 completed\n",
      "/Users/sankalpyadav/Desktop/QuantProjects/GAN-Transformers-Synthetic-Data/generative_finance/data_loader.py:28: FutureWarning: YF.download() has changed argument auto_adjust default to True\n",
      "  df = yf.download(ticker, start=start_date, end=end_date)\n",
      "[*********************100%***********************]  1 of 1 completed\n",
      "/Users/sankalpyadav/Desktop/QuantProjects/GAN-Transformers-Synthetic-Data/generative_finance/data_loader.py:28: FutureWarning: YF.download() has changed argument auto_adjust default to True\n",
      "  df = yf.download(ticker, start=start_date, end=end_date)\n",
      "[*********************100%***********************]  1 of 1 completed\n",
      "/Users/sankalpyadav/Desktop/QuantProjects/GAN-Transformers-Synthetic-Data/generative_finance/data_loader.py:28: FutureWarning: YF.download() has changed argument auto_adjust default to True\n",
      "  df = yf.download(ticker, start=start_date, end=end_date)\n",
      "[*********************100%***********************]  1 of 1 completed\n",
      "/Users/sankalpyadav/Desktop/QuantProjects/GAN-Transformers-Synthetic-Data/generative_finance/data_loader.py:28: FutureWarning: YF.download() has changed argument auto_adjust default to True\n",
      "  df = yf.download(ticker, start=start_date, end=end_date)\n",
      "[*********************100%***********************]  1 of 1 completed"
     ]
    },
    {
     "name": "stdout",
     "output_type": "stream",
     "text": [
      "\n",
      "--- Processing NVDA ---\n",
      "Fetching data for NVDA from 2015-01-01 to 2025-06-30...\n",
      "Data process into 2614 sequences of length 24.\n",
      "Saved processed data for NVDA to data/processed/NVDA_data.npy\n",
      "Saved scaler for NVDA to data/processed/NVDA_scaler.joblib\n",
      "\n",
      "--- Processing MSFT ---\n",
      "Fetching data for MSFT from 2015-01-01 to 2025-06-30...\n",
      "Data process into 2614 sequences of length 24.\n",
      "Saved processed data for MSFT to data/processed/MSFT_data.npy\n",
      "Saved scaler for MSFT to data/processed/MSFT_scaler.joblib\n",
      "\n",
      "--- Processing AAPL ---\n",
      "Fetching data for AAPL from 2015-01-01 to 2025-06-30...\n",
      "Data process into 2614 sequences of length 24.\n",
      "Saved processed data for AAPL to data/processed/AAPL_data.npy\n",
      "Saved scaler for AAPL to data/processed/AAPL_scaler.joblib\n",
      "\n",
      "--- Processing GOOGL ---\n",
      "Fetching data for GOOGL from 2015-01-01 to 2025-06-30...\n",
      "Data process into 2614 sequences of length 24.\n",
      "Saved processed data for GOOGL to data/processed/GOOGL_data.npy\n",
      "Saved scaler for GOOGL to data/processed/GOOGL_scaler.joblib\n",
      "\n",
      "--- Processing JNJ ---\n",
      "Fetching data for JNJ from 2015-01-01 to 2025-06-30...\n",
      "Data process into 2614 sequences of length 24.\n",
      "Saved processed data for JNJ to data/processed/JNJ_data.npy\n",
      "Saved scaler for JNJ to data/processed/JNJ_scaler.joblib\n",
      "\n",
      "--- Processing LLY ---\n",
      "Fetching data for LLY from 2015-01-01 to 2025-06-30...\n",
      "Data process into 2614 sequences of length 24.\n",
      "Saved processed data for LLY to data/processed/LLY_data.npy\n",
      "Saved scaler for LLY to data/processed/LLY_scaler.joblib\n",
      "\n",
      "--- Processing PFE ---\n",
      "Fetching data for PFE from 2015-01-01 to 2025-06-30...\n"
     ]
    },
    {
     "name": "stderr",
     "output_type": "stream",
     "text": [
      "\n",
      "/Users/sankalpyadav/Desktop/QuantProjects/GAN-Transformers-Synthetic-Data/generative_finance/data_loader.py:28: FutureWarning: YF.download() has changed argument auto_adjust default to True\n",
      "  df = yf.download(ticker, start=start_date, end=end_date)\n",
      "[*********************100%***********************]  1 of 1 completed\n",
      "/Users/sankalpyadav/Desktop/QuantProjects/GAN-Transformers-Synthetic-Data/generative_finance/data_loader.py:28: FutureWarning: YF.download() has changed argument auto_adjust default to True\n",
      "  df = yf.download(ticker, start=start_date, end=end_date)\n",
      "[*********************100%***********************]  1 of 1 completed\n",
      "/Users/sankalpyadav/Desktop/QuantProjects/GAN-Transformers-Synthetic-Data/generative_finance/data_loader.py:28: FutureWarning: YF.download() has changed argument auto_adjust default to True\n",
      "  df = yf.download(ticker, start=start_date, end=end_date)\n",
      "[*********************100%***********************]  1 of 1 completed\n",
      "/Users/sankalpyadav/Desktop/QuantProjects/GAN-Transformers-Synthetic-Data/generative_finance/data_loader.py:28: FutureWarning: YF.download() has changed argument auto_adjust default to True\n",
      "  df = yf.download(ticker, start=start_date, end=end_date)\n",
      "[*********************100%***********************]  1 of 1 completed\n",
      "/Users/sankalpyadav/Desktop/QuantProjects/GAN-Transformers-Synthetic-Data/generative_finance/data_loader.py:28: FutureWarning: YF.download() has changed argument auto_adjust default to True\n",
      "  df = yf.download(ticker, start=start_date, end=end_date)\n",
      "[*********************100%***********************]  1 of 1 completed\n",
      "/Users/sankalpyadav/Desktop/QuantProjects/GAN-Transformers-Synthetic-Data/generative_finance/data_loader.py:28: FutureWarning: YF.download() has changed argument auto_adjust default to True\n",
      "  df = yf.download(ticker, start=start_date, end=end_date)\n",
      "[*********************100%***********************]  1 of 1 completed"
     ]
    },
    {
     "name": "stdout",
     "output_type": "stream",
     "text": [
      "Data process into 2614 sequences of length 24.\n",
      "Saved processed data for PFE to data/processed/PFE_data.npy\n",
      "Saved scaler for PFE to data/processed/PFE_scaler.joblib\n",
      "\n",
      "--- Processing VRTX ---\n",
      "Fetching data for VRTX from 2015-01-01 to 2025-06-30...\n",
      "Data process into 2614 sequences of length 24.\n",
      "Saved processed data for VRTX to data/processed/VRTX_data.npy\n",
      "Saved scaler for VRTX to data/processed/VRTX_scaler.joblib\n",
      "\n",
      "--- Processing AMZN ---\n",
      "Fetching data for AMZN from 2015-01-01 to 2025-06-30...\n",
      "Data process into 2614 sequences of length 24.\n",
      "Saved processed data for AMZN to data/processed/AMZN_data.npy\n",
      "Saved scaler for AMZN to data/processed/AMZN_scaler.joblib\n",
      "\n",
      "--- Processing TSLA ---\n",
      "Fetching data for TSLA from 2015-01-01 to 2025-06-30...\n",
      "Data process into 2614 sequences of length 24.\n",
      "Saved processed data for TSLA to data/processed/TSLA_data.npy\n",
      "Saved scaler for TSLA to data/processed/TSLA_scaler.joblib\n",
      "\n",
      "--- Processing NKE ---\n",
      "Fetching data for NKE from 2015-01-01 to 2025-06-30...\n",
      "Data process into 2614 sequences of length 24.\n",
      "Saved processed data for NKE to data/processed/NKE_data.npy\n",
      "Saved scaler for NKE to data/processed/NKE_scaler.joblib\n",
      "\n",
      "--- Processing HD ---\n",
      "Fetching data for HD from 2015-01-01 to 2025-06-30...\n",
      "Data process into 2614 sequences of length 24.\n",
      "Saved processed data for HD to data/processed/HD_data.npy\n",
      "Saved scaler for HD to data/processed/HD_scaler.joblib\n",
      "\n",
      "--- All tickers processed successfully. ---\n"
     ]
    },
    {
     "name": "stderr",
     "output_type": "stream",
     "text": [
      "\n"
     ]
    }
   ],
   "source": [
    "for ticker in TICKERS:\n",
    "    print(f\"\\n--- Processing {ticker} ---\")\n",
    "    try:\n",
    "        # Use our existing function to get the data\n",
    "        processed_data, scaler = load_and_preprocess_data(\n",
    "            ticker=ticker,\n",
    "            start_date=START_DATE,\n",
    "            end_date=END_DATE,\n",
    "            seq_len=SEQUENCE_LENGTH\n",
    "        )\n",
    "\n",
    "        # Define file paths for saving\n",
    "        data_path = os.path.join(output_dir, f'{ticker}_data.npy')\n",
    "        scaler_path = os.path.join(output_dir, f'{ticker}_scaler.joblib')\n",
    "\n",
    "        # Save the processed data and the scaler\n",
    "        np.save(data_path, processed_data)\n",
    "        joblib.dump(scaler, scaler_path)\n",
    "        \n",
    "        print(f\"Saved processed data for {ticker} to {data_path}\")\n",
    "        print(f\"Saved scaler for {ticker} to {scaler_path}\")\n",
    "\n",
    "    except Exception as e:\n",
    "        print(f\"Failed to process {ticker}. Error: {e}\")\n",
    "\n",
    "print(\"\\n--- All tickers processed successfully. ---\")"
   ]
  }
 ],
 "metadata": {
  "kernelspec": {
   "display_name": ".venv",
   "language": "python",
   "name": "python3"
  },
  "language_info": {
   "codemirror_mode": {
    "name": "ipython",
    "version": 3
   },
   "file_extension": ".py",
   "mimetype": "text/x-python",
   "name": "python",
   "nbconvert_exporter": "python",
   "pygments_lexer": "ipython3",
   "version": "3.9.6"
  }
 },
 "nbformat": 4,
 "nbformat_minor": 2
}
